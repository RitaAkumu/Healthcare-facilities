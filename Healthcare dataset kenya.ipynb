{
 "cells": [
  {
   "cell_type": "code",
   "execution_count": 4,
   "id": "96b45487-6b29-48b4-ab40-f52dd45001fb",
   "metadata": {},
   "outputs": [
    {
     "data": {
      "text/html": [
       "<div>\n",
       "<style scoped>\n",
       "    .dataframe tbody tr th:only-of-type {\n",
       "        vertical-align: middle;\n",
       "    }\n",
       "\n",
       "    .dataframe tbody tr th {\n",
       "        vertical-align: top;\n",
       "    }\n",
       "\n",
       "    .dataframe thead th {\n",
       "        text-align: right;\n",
       "    }\n",
       "</style>\n",
       "<table border=\"1\" class=\"dataframe\">\n",
       "  <thead>\n",
       "    <tr style=\"text-align: right;\">\n",
       "      <th></th>\n",
       "      <th>Unnamed: 0.1</th>\n",
       "      <th>Unnamed: 0</th>\n",
       "      <th>Facility Code</th>\n",
       "      <th>Facility Name</th>\n",
       "      <th>Province</th>\n",
       "      <th>County</th>\n",
       "      <th>District</th>\n",
       "      <th>Division</th>\n",
       "      <th>Type</th>\n",
       "      <th>Owner</th>\n",
       "      <th>...</th>\n",
       "      <th>Job Title of in Charge</th>\n",
       "      <th>Open 24 Hours</th>\n",
       "      <th>Open Weekends</th>\n",
       "      <th>Operational Status</th>\n",
       "      <th>ART</th>\n",
       "      <th>C-IMCI</th>\n",
       "      <th>FP</th>\n",
       "      <th>HBC</th>\n",
       "      <th>IPD</th>\n",
       "      <th>Category</th>\n",
       "    </tr>\n",
       "  </thead>\n",
       "  <tbody>\n",
       "    <tr>\n",
       "      <th>0</th>\n",
       "      <td>0</td>\n",
       "      <td>0</td>\n",
       "      <td>19224</td>\n",
       "      <td>CDF Kiriari Dispensary</td>\n",
       "      <td>Eastern</td>\n",
       "      <td>Embu</td>\n",
       "      <td>Manyatta</td>\n",
       "      <td>Manyatta</td>\n",
       "      <td>Dispensary</td>\n",
       "      <td>Ministry of Health</td>\n",
       "      <td>...</td>\n",
       "      <td>Nursing Officer in Charge</td>\n",
       "      <td>NaN</td>\n",
       "      <td>NaN</td>\n",
       "      <td>Operational</td>\n",
       "      <td>NaN</td>\n",
       "      <td>NaN</td>\n",
       "      <td>NaN</td>\n",
       "      <td>NaN</td>\n",
       "      <td>NaN</td>\n",
       "      <td>Urban-Rural</td>\n",
       "    </tr>\n",
       "    <tr>\n",
       "      <th>1</th>\n",
       "      <td>1</td>\n",
       "      <td>1</td>\n",
       "      <td>19310</td>\n",
       "      <td>St Jude's Huruma Community Health Services</td>\n",
       "      <td>Nairobi</td>\n",
       "      <td>Nairobi</td>\n",
       "      <td>Mathare</td>\n",
       "      <td>Huruma</td>\n",
       "      <td>Medical Clinic</td>\n",
       "      <td>Private Practice - Unspecified</td>\n",
       "      <td>...</td>\n",
       "      <td>Clinical Officer</td>\n",
       "      <td>N</td>\n",
       "      <td>Y</td>\n",
       "      <td>Operational</td>\n",
       "      <td>NaN</td>\n",
       "      <td>NaN</td>\n",
       "      <td>NaN</td>\n",
       "      <td>NaN</td>\n",
       "      <td>NaN</td>\n",
       "      <td>Urban</td>\n",
       "    </tr>\n",
       "    <tr>\n",
       "      <th>2</th>\n",
       "      <td>2</td>\n",
       "      <td>2</td>\n",
       "      <td>14180</td>\n",
       "      <td>10 Engineer VCT</td>\n",
       "      <td>Rift Valley</td>\n",
       "      <td>Laikipia</td>\n",
       "      <td>Laikipia East</td>\n",
       "      <td>Central</td>\n",
       "      <td>Dispensary</td>\n",
       "      <td>Armed Forces</td>\n",
       "      <td>...</td>\n",
       "      <td>Medical Superintendant</td>\n",
       "      <td>N</td>\n",
       "      <td>N</td>\n",
       "      <td>Operational</td>\n",
       "      <td>Y</td>\n",
       "      <td>NaN</td>\n",
       "      <td>Y</td>\n",
       "      <td>Y</td>\n",
       "      <td>NaN</td>\n",
       "      <td>Urban-Rural</td>\n",
       "    </tr>\n",
       "    <tr>\n",
       "      <th>3</th>\n",
       "      <td>3</td>\n",
       "      <td>3</td>\n",
       "      <td>17486</td>\n",
       "      <td>12 Engineers</td>\n",
       "      <td>Central</td>\n",
       "      <td>Kiambu</td>\n",
       "      <td>Thika West</td>\n",
       "      <td>NaN</td>\n",
       "      <td>Dispensary</td>\n",
       "      <td>Ministry of Health</td>\n",
       "      <td>...</td>\n",
       "      <td>NaN</td>\n",
       "      <td>N</td>\n",
       "      <td>N</td>\n",
       "      <td>Operational</td>\n",
       "      <td>NaN</td>\n",
       "      <td>NaN</td>\n",
       "      <td>NaN</td>\n",
       "      <td>NaN</td>\n",
       "      <td>NaN</td>\n",
       "      <td>Urban</td>\n",
       "    </tr>\n",
       "    <tr>\n",
       "      <th>4</th>\n",
       "      <td>4</td>\n",
       "      <td>4</td>\n",
       "      <td>18393</td>\n",
       "      <td>3Kl Maternity &amp; Nursing Home</td>\n",
       "      <td>Rift Valley</td>\n",
       "      <td>Kajiado</td>\n",
       "      <td>Kajiado North</td>\n",
       "      <td>Ongata Rongai</td>\n",
       "      <td>Nursing Home</td>\n",
       "      <td>Private Practice - Clinical Officer</td>\n",
       "      <td>...</td>\n",
       "      <td>Clinical Officer</td>\n",
       "      <td>Y</td>\n",
       "      <td>Y</td>\n",
       "      <td>Operational</td>\n",
       "      <td>NaN</td>\n",
       "      <td>NaN</td>\n",
       "      <td>NaN</td>\n",
       "      <td>NaN</td>\n",
       "      <td>NaN</td>\n",
       "      <td>Urban</td>\n",
       "    </tr>\n",
       "  </tbody>\n",
       "</table>\n",
       "<p>5 rows × 36 columns</p>\n",
       "</div>"
      ],
      "text/plain": [
       "   Unnamed: 0.1  Unnamed: 0  Facility Code  \\\n",
       "0             0           0          19224   \n",
       "1             1           1          19310   \n",
       "2             2           2          14180   \n",
       "3             3           3          17486   \n",
       "4             4           4          18393   \n",
       "\n",
       "                                 Facility Name     Province    County  \\\n",
       "0                       CDF Kiriari Dispensary      Eastern      Embu   \n",
       "1   St Jude's Huruma Community Health Services      Nairobi   Nairobi   \n",
       "2                              10 Engineer VCT  Rift Valley  Laikipia   \n",
       "3                                 12 Engineers      Central    Kiambu   \n",
       "4                 3Kl Maternity & Nursing Home  Rift Valley   Kajiado   \n",
       "\n",
       "        District       Division            Type  \\\n",
       "0       Manyatta       Manyatta      Dispensary   \n",
       "1        Mathare         Huruma  Medical Clinic   \n",
       "2  Laikipia East        Central      Dispensary   \n",
       "3     Thika West            NaN      Dispensary   \n",
       "4  Kajiado North  Ongata Rongai    Nursing Home   \n",
       "\n",
       "                                 Owner  ...     Job Title of in Charge  \\\n",
       "0                   Ministry of Health  ...  Nursing Officer in Charge   \n",
       "1       Private Practice - Unspecified  ...           Clinical Officer   \n",
       "2                         Armed Forces  ...     Medical Superintendant   \n",
       "3                   Ministry of Health  ...                        NaN   \n",
       "4  Private Practice - Clinical Officer  ...           Clinical Officer   \n",
       "\n",
       "  Open 24 Hours Open Weekends Operational Status  ART  C-IMCI   FP  HBC  IPD  \\\n",
       "0           NaN           NaN        Operational  NaN     NaN  NaN  NaN  NaN   \n",
       "1             N             Y        Operational  NaN     NaN  NaN  NaN  NaN   \n",
       "2             N             N        Operational    Y     NaN    Y    Y  NaN   \n",
       "3             N             N        Operational  NaN     NaN  NaN  NaN  NaN   \n",
       "4             Y             Y        Operational  NaN     NaN  NaN  NaN  NaN   \n",
       "\n",
       "      Category  \n",
       "0  Urban-Rural  \n",
       "1        Urban  \n",
       "2  Urban-Rural  \n",
       "3        Urban  \n",
       "4        Urban  \n",
       "\n",
       "[5 rows x 36 columns]"
      ]
     },
     "execution_count": 4,
     "metadata": {},
     "output_type": "execute_result"
    }
   ],
   "source": [
    "import pandas as pd\n",
    "health = pd.read_excel(r'C:\\Users\\ADMIN\\Documents\\Business Analysis Portfolio 2025\\healthcare dataset/healthcare kenya.xlsx')\n",
    "health.head()"
   ]
  },
  {
   "cell_type": "code",
   "execution_count": 2,
   "id": "b9271819-b131-43c3-83f7-76defe679f48",
   "metadata": {
    "scrolled": true
   },
   "outputs": [
    {
     "name": "stdout",
     "output_type": "stream",
     "text": [
      "<class 'pandas.core.frame.DataFrame'>\n",
      "RangeIndex: 10505 entries, 0 to 10504\n",
      "Data columns (total 34 columns):\n",
      " #   Column                   Non-Null Count  Dtype  \n",
      "---  ------                   --------------  -----  \n",
      " 0   Unnamed: 0               10505 non-null  int64  \n",
      " 1   Facility Code            10505 non-null  int64  \n",
      " 2   Facility Name            10505 non-null  object \n",
      " 3   Province                 10505 non-null  object \n",
      " 4   County                   10505 non-null  object \n",
      " 5   District                 10505 non-null  object \n",
      " 6   Division                 10238 non-null  object \n",
      " 7   Type                     10505 non-null  object \n",
      " 8   Owner                    10505 non-null  object \n",
      " 9   Location                 10010 non-null  object \n",
      " 10  Sub Location             9612 non-null   object \n",
      " 11  Description of Location  5304 non-null   object \n",
      " 12  Constituency             10505 non-null  object \n",
      " 13  Nearest Town             9903 non-null   object \n",
      " 14  Beds                     10418 non-null  float64\n",
      " 15  Cots                     10428 non-null  float64\n",
      " 16  Official Landline        1363 non-null   object \n",
      " 17  Official Fax             539 non-null    object \n",
      " 18  Official Mobile          2913 non-null   object \n",
      " 19  Official Email           1856 non-null   object \n",
      " 20  Official Address         6963 non-null   object \n",
      " 21  Official Alternate No    952 non-null    float64\n",
      " 22  Town                     7838 non-null   object \n",
      " 23  Post Code                6680 non-null   object \n",
      " 24  In Charge                8363 non-null   object \n",
      " 25  Job Title of in Charge   7406 non-null   object \n",
      " 26  Open 24 Hours            10058 non-null  object \n",
      " 27  Open Weekends            10048 non-null  object \n",
      " 28  Operational Status       10505 non-null  object \n",
      " 29  ART                      921 non-null    object \n",
      " 30  C-IMCI                   1177 non-null   object \n",
      " 31  FP                       4288 non-null   object \n",
      " 32  HBC                      2798 non-null   object \n",
      " 33  IPD                      3943 non-null   object \n",
      "dtypes: float64(3), int64(2), object(29)\n",
      "memory usage: 2.7+ MB\n"
     ]
    }
   ],
   "source": [
    "health.info()"
   ]
  },
  {
   "cell_type": "code",
   "execution_count": 3,
   "id": "23b5fdb1-ab5f-43aa-a119-678ba5ffb602",
   "metadata": {},
   "outputs": [
    {
     "name": "stdout",
     "output_type": "stream",
     "text": [
      "<class 'pandas.core.frame.DataFrame'>\n",
      "RangeIndex: 10505 entries, 0 to 10504\n",
      "Data columns (total 34 columns):\n",
      " #   Column                   Non-Null Count  Dtype  \n",
      "---  ------                   --------------  -----  \n",
      " 0   Unnamed: 0               10505 non-null  int64  \n",
      " 1   Facility Code            10505 non-null  int64  \n",
      " 2   Facility Name            10505 non-null  object \n",
      " 3   Province                 10505 non-null  object \n",
      " 4   County                   10505 non-null  object \n",
      " 5   District                 10505 non-null  object \n",
      " 6   Division                 10238 non-null  object \n",
      " 7   Type                     10505 non-null  object \n",
      " 8   Owner                    10505 non-null  object \n",
      " 9   Location                 10010 non-null  object \n",
      " 10  Sub Location             9612 non-null   object \n",
      " 11  Description of Location  5304 non-null   object \n",
      " 12  Constituency             10505 non-null  object \n",
      " 13  Nearest Town             9903 non-null   object \n",
      " 14  Beds                     10418 non-null  float64\n",
      " 15  Cots                     10428 non-null  float64\n",
      " 16  Official Landline        1363 non-null   object \n",
      " 17  Official Fax             539 non-null    object \n",
      " 18  Official Mobile          2913 non-null   object \n",
      " 19  Official Email           1856 non-null   object \n",
      " 20  Official Address         6963 non-null   object \n",
      " 21  Official Alternate No    952 non-null    float64\n",
      " 22  Town                     7838 non-null   object \n",
      " 23  Post Code                6680 non-null   object \n",
      " 24  In Charge                8363 non-null   object \n",
      " 25  Job Title of in Charge   7406 non-null   object \n",
      " 26  Open 24 Hours            10058 non-null  object \n",
      " 27  Open Weekends            10048 non-null  object \n",
      " 28  Operational Status       10505 non-null  object \n",
      " 29  ART                      921 non-null    object \n",
      " 30  C-IMCI                   1177 non-null   object \n",
      " 31  FP                       4288 non-null   object \n",
      " 32  HBC                      2798 non-null   object \n",
      " 33  IPD                      3943 non-null   object \n",
      "dtypes: float64(3), int64(2), object(29)\n",
      "memory usage: 2.7+ MB\n"
     ]
    }
   ],
   "source": [
    "health.dropna(axis=1, how='all', inplace=True)\n",
    "health.info()"
   ]
  },
  {
   "cell_type": "code",
   "execution_count": 4,
   "id": "18f6ce28-4134-4e28-9414-45d21fc3d8d7",
   "metadata": {
    "scrolled": true
   },
   "outputs": [
    {
     "data": {
      "text/html": [
       "<div>\n",
       "<style scoped>\n",
       "    .dataframe tbody tr th:only-of-type {\n",
       "        vertical-align: middle;\n",
       "    }\n",
       "\n",
       "    .dataframe tbody tr th {\n",
       "        vertical-align: top;\n",
       "    }\n",
       "\n",
       "    .dataframe thead th {\n",
       "        text-align: right;\n",
       "    }\n",
       "</style>\n",
       "<table border=\"1\" class=\"dataframe\">\n",
       "  <thead>\n",
       "    <tr style=\"text-align: right;\">\n",
       "      <th></th>\n",
       "      <th>Unnamed: 0</th>\n",
       "      <th>Facility Code</th>\n",
       "      <th>Beds</th>\n",
       "      <th>Cots</th>\n",
       "      <th>Official Alternate No</th>\n",
       "    </tr>\n",
       "  </thead>\n",
       "  <tbody>\n",
       "    <tr>\n",
       "      <th>count</th>\n",
       "      <td>10505.000000</td>\n",
       "      <td>10505.000000</td>\n",
       "      <td>10418.000000</td>\n",
       "      <td>10428.000000</td>\n",
       "      <td>9.520000e+02</td>\n",
       "    </tr>\n",
       "    <tr>\n",
       "      <th>mean</th>\n",
       "      <td>5252.000000</td>\n",
       "      <td>15726.711471</td>\n",
       "      <td>5.432905</td>\n",
       "      <td>0.744342</td>\n",
       "      <td>6.695277e+08</td>\n",
       "    </tr>\n",
       "    <tr>\n",
       "      <th>std</th>\n",
       "      <td>3032.676623</td>\n",
       "      <td>3246.324955</td>\n",
       "      <td>29.862656</td>\n",
       "      <td>11.332022</td>\n",
       "      <td>5.568178e+08</td>\n",
       "    </tr>\n",
       "    <tr>\n",
       "      <th>min</th>\n",
       "      <td>0.000000</td>\n",
       "      <td>10001.000000</td>\n",
       "      <td>0.000000</td>\n",
       "      <td>0.000000</td>\n",
       "      <td>0.000000e+00</td>\n",
       "    </tr>\n",
       "    <tr>\n",
       "      <th>25%</th>\n",
       "      <td>2626.000000</td>\n",
       "      <td>12957.000000</td>\n",
       "      <td>0.000000</td>\n",
       "      <td>0.000000</td>\n",
       "      <td>7.138962e+08</td>\n",
       "    </tr>\n",
       "    <tr>\n",
       "      <th>50%</th>\n",
       "      <td>5252.000000</td>\n",
       "      <td>15702.000000</td>\n",
       "      <td>0.000000</td>\n",
       "      <td>0.000000</td>\n",
       "      <td>7.227692e+08</td>\n",
       "    </tr>\n",
       "    <tr>\n",
       "      <th>75%</th>\n",
       "      <td>7878.000000</td>\n",
       "      <td>18569.000000</td>\n",
       "      <td>1.000000</td>\n",
       "      <td>0.000000</td>\n",
       "      <td>7.278981e+08</td>\n",
       "    </tr>\n",
       "    <tr>\n",
       "      <th>max</th>\n",
       "      <td>10504.000000</td>\n",
       "      <td>21281.000000</td>\n",
       "      <td>1455.000000</td>\n",
       "      <td>1000.000000</td>\n",
       "      <td>7.382217e+09</td>\n",
       "    </tr>\n",
       "  </tbody>\n",
       "</table>\n",
       "</div>"
      ],
      "text/plain": [
       "         Unnamed: 0  Facility Code          Beds          Cots  \\\n",
       "count  10505.000000   10505.000000  10418.000000  10428.000000   \n",
       "mean    5252.000000   15726.711471      5.432905      0.744342   \n",
       "std     3032.676623    3246.324955     29.862656     11.332022   \n",
       "min        0.000000   10001.000000      0.000000      0.000000   \n",
       "25%     2626.000000   12957.000000      0.000000      0.000000   \n",
       "50%     5252.000000   15702.000000      0.000000      0.000000   \n",
       "75%     7878.000000   18569.000000      1.000000      0.000000   \n",
       "max    10504.000000   21281.000000   1455.000000   1000.000000   \n",
       "\n",
       "       Official Alternate No  \n",
       "count           9.520000e+02  \n",
       "mean            6.695277e+08  \n",
       "std             5.568178e+08  \n",
       "min             0.000000e+00  \n",
       "25%             7.138962e+08  \n",
       "50%             7.227692e+08  \n",
       "75%             7.278981e+08  \n",
       "max             7.382217e+09  "
      ]
     },
     "execution_count": 4,
     "metadata": {},
     "output_type": "execute_result"
    }
   ],
   "source": [
    "health.describe()\n"
   ]
  },
  {
   "cell_type": "code",
   "execution_count": 5,
   "id": "0e3b2275-dffa-4c6e-8c52-d2a857f54de9",
   "metadata": {},
   "outputs": [
    {
     "data": {
      "text/plain": [
       "Unnamed: 0                    0\n",
       "Facility Code                 0\n",
       "Facility Name                 0\n",
       "Province                      0\n",
       "County                        0\n",
       "District                      0\n",
       "Division                    267\n",
       "Type                          0\n",
       "Owner                         0\n",
       "Location                    495\n",
       "Sub Location                893\n",
       "Description of Location    5201\n",
       "Constituency                  0\n",
       "Nearest Town                602\n",
       "Beds                         87\n",
       "Cots                         77\n",
       "Official Landline          9142\n",
       "Official Fax               9966\n",
       "Official Mobile            7592\n",
       "Official Email             8649\n",
       "Official Address           3542\n",
       "Official Alternate No      9553\n",
       "Town                       2667\n",
       "Post Code                  3825\n",
       "In Charge                  2142\n",
       "Job Title of in Charge     3099\n",
       "Open 24 Hours               447\n",
       "Open Weekends               457\n",
       "Operational Status            0\n",
       "ART                        9584\n",
       "C-IMCI                     9328\n",
       "FP                         6217\n",
       "HBC                        7707\n",
       "IPD                        6562\n",
       "dtype: int64"
      ]
     },
     "execution_count": 5,
     "metadata": {},
     "output_type": "execute_result"
    }
   ],
   "source": [
    "health.isnull().sum()"
   ]
  },
  {
   "cell_type": "code",
   "execution_count": 6,
   "id": "66f403e0-33da-409e-8056-2173637dee20",
   "metadata": {},
   "outputs": [],
   "source": [
    "health[\"Description of Location\"] = health[\"Description of Location\"].fillna(\"N/A\")\n",
    "health[\"Official Landline\"] = health[\"Official Landline\"].fillna(\"N/A\")\n",
    "health[\"Division\"] = health[\"Division\"].fillna(\"N/A\")\n",
    "health[\"Location\"]= health[\"Location\"].fillna(\"N/A\")\n",
    "health[\"Sub Location\"] = health[\"Sub Location\"].fillna(\"N/A\")\n",
    "health[\"Nearest Town\"] = health[\"Nearest Town\"].fillna(\"N/A\")\n",
    "health[\"Official Landline\"] = health[\"Official Landline\"].fillna(\"N/A\")\n",
    "health[\"Official Mobile\"] = health[\"Official Mobile\"].fillna(\"N/A\")"
   ]
  },
  {
   "cell_type": "code",
   "execution_count": 7,
   "id": "3d02921a-e151-4508-96f6-9c3a78e2eec0",
   "metadata": {
    "scrolled": true
   },
   "outputs": [
    {
     "data": {
      "text/plain": [
       "Unnamed: 0                    0\n",
       "Facility Code                 0\n",
       "Facility Name                 0\n",
       "Province                      0\n",
       "County                        0\n",
       "District                      0\n",
       "Division                      0\n",
       "Type                          0\n",
       "Owner                         0\n",
       "Location                      0\n",
       "Sub Location                  0\n",
       "Description of Location       0\n",
       "Constituency                  0\n",
       "Nearest Town                  0\n",
       "Beds                         87\n",
       "Cots                         77\n",
       "Official Landline             0\n",
       "Official Fax               9966\n",
       "Official Mobile               0\n",
       "Official Email             8649\n",
       "Official Address           3542\n",
       "Official Alternate No      9553\n",
       "Town                       2667\n",
       "Post Code                  3825\n",
       "In Charge                  2142\n",
       "Job Title of in Charge     3099\n",
       "Open 24 Hours               447\n",
       "Open Weekends               457\n",
       "Operational Status            0\n",
       "ART                        9584\n",
       "C-IMCI                     9328\n",
       "FP                         6217\n",
       "HBC                        7707\n",
       "IPD                        6562\n",
       "dtype: int64"
      ]
     },
     "execution_count": 7,
     "metadata": {},
     "output_type": "execute_result"
    }
   ],
   "source": [
    "health.isnull().sum()"
   ]
  },
  {
   "cell_type": "code",
   "execution_count": 21,
   "id": "55132c32-5243-4ada-8c40-39101bb76749",
   "metadata": {},
   "outputs": [
    {
     "data": {
      "text/plain": [
       "Facility Code              0\n",
       "Facility Name              0\n",
       "Province                   0\n",
       "County                     0\n",
       "District                   0\n",
       "Division                   0\n",
       "Type                       0\n",
       "Owner                      0\n",
       "Location                   0\n",
       "Sub Location               0\n",
       "Description of Location    0\n",
       "Constituency               0\n",
       "Nearest Town               0\n",
       "Beds                       0\n",
       "Cots                       0\n",
       "Official Landline          0\n",
       "Official Fax               0\n",
       "Official Mobile            0\n",
       "Official Email             0\n",
       "Official Address           0\n",
       "Official Alternate No      0\n",
       "Town                       0\n",
       "Post Code                  0\n",
       "In Charge                  0\n",
       "Job Title of in Charge     0\n",
       "OpeNo 24 Hours             0\n",
       "OpeNo WeekeNods            0\n",
       "Operational Status         0\n",
       "ART                        0\n",
       "C-IMCI                     0\n",
       "FP                         0\n",
       "HBC                        0\n",
       "IPD                        0\n",
       "Category                   0\n",
       "dtype: int64"
      ]
     },
     "execution_count": 21,
     "metadata": {},
     "output_type": "execute_result"
    }
   ],
   "source": [
    "#filled other missing values in the dataset\n",
    "healths = pd.read_excel(r'C:\\Users\\ADMIN\\Documents\\Business Analysis Portfolio 2025\\healthcare dataset/healthcare kenya python.xlsx')\n",
    "healths.head()\n",
    "healths[\"Description of Location\"] = healths[\"Description of Location\"].fillna(\"N/A\")\n",
    "healths[\"Official Landline\"] = healths[\"Official Landline\"].fillna(\"N/A\")\n",
    "healths[\"Division\"] = healths[\"Division\"].fillna(\"N/A\")\n",
    "healths[\"Location\"]= healths[\"Location\"].fillna(\"N/A\")\n",
    "healths[\"Sub Location\"] = healths[\"Sub Location\"].fillna(\"N/A\")\n",
    "healths[\"Nearest Town\"] = healths[\"Nearest Town\"].fillna(\"N/A\")\n",
    "healths[\"Official Landline\"] = healths[\"Official Landline\"].fillna(\"N/A\")\n",
    "healths[\"Official Mobile\"] = healths[\"Official Mobile\"].fillna(\"N/A\")\n",
    "healths.isnull().sum()"
   ]
  },
  {
   "cell_type": "code",
   "execution_count": 36,
   "id": "d4a6dc45-dfdd-4f9a-9d19-907790bfa570",
   "metadata": {},
   "outputs": [
    {
     "name": "stdout",
     "output_type": "stream",
     "text": [
      "<class 'pandas.core.frame.DataFrame'>\n",
      "RangeIndex: 10505 entries, 0 to 10504\n",
      "Data columns (total 34 columns):\n",
      " #   Column                   Non-Null Count  Dtype \n",
      "---  ------                   --------------  ----- \n",
      " 0   Facility Code            10505 non-null  int64 \n",
      " 1   Facility Name            10505 non-null  object\n",
      " 2   Province                 10505 non-null  object\n",
      " 3   County                   10505 non-null  object\n",
      " 4   District                 10505 non-null  object\n",
      " 5   Division                 10505 non-null  object\n",
      " 6   Type                     10505 non-null  object\n",
      " 7   Owner                    10505 non-null  object\n",
      " 8   Location                 10505 non-null  object\n",
      " 9   Sub Location             10505 non-null  object\n",
      " 10  Description of Location  10505 non-null  object\n",
      " 11  Constituency             10505 non-null  object\n",
      " 12  Nearest Town             10505 non-null  object\n",
      " 13  Beds                     10505 non-null  int64 \n",
      " 14  Cots                     10505 non-null  int64 \n",
      " 15  Official Landline        10505 non-null  object\n",
      " 16  Official Fax             10505 non-null  object\n",
      " 17  Official Mobile          10505 non-null  object\n",
      " 18  Official Email           10505 non-null  object\n",
      " 19  Official Address         10505 non-null  object\n",
      " 20  Official Alternate No    10505 non-null  int64 \n",
      " 21  Town                     10505 non-null  object\n",
      " 22  Post Code                10505 non-null  object\n",
      " 23  In Charge                10505 non-null  object\n",
      " 24  Job Title of in Charge   10505 non-null  object\n",
      " 25  OpeNo 24 Hours           10505 non-null  object\n",
      " 26  OpeNo WeekeNods          10505 non-null  object\n",
      " 27  Operational Status       10505 non-null  object\n",
      " 28  ART                      10505 non-null  object\n",
      " 29  C-IMCI                   10505 non-null  object\n",
      " 30  FP                       10505 non-null  object\n",
      " 31  HBC                      10505 non-null  object\n",
      " 32  IPD                      10505 non-null  object\n",
      " 33  Category                 10505 non-null  object\n",
      "dtypes: int64(4), object(30)\n",
      "memory usage: 2.7+ MB\n"
     ]
    }
   ],
   "source": [
    "healths.info()"
   ]
  },
  {
   "cell_type": "code",
   "execution_count": 7,
   "id": "f786e7c2-9024-4f07-9ef2-07e906813b82",
   "metadata": {},
   "outputs": [
    {
     "name": "stdout",
     "output_type": "stream",
     "text": [
      "County\n",
      "Nairobi    942\n",
      "Kiambu     506\n",
      "Meru       461\n",
      "Nyeri      453\n",
      "Nakuru     436\n",
      "Name: count, dtype: int64\n"
     ]
    },
    {
     "data": {
      "image/png": "[encoded data removed]",
      "text/plain": [
       "<Figure size 640x480 with 1 Axes>"
      ]
     },
     "metadata": {},
     "output_type": "display_data"
    }
   ],
   "source": [
    "county_dis = healths.value_counts(\"County\").nlargest(5)\n",
    "print(county_dis)\n",
    "import seaborn as sns\n",
    "import matplotlib.pyplot as plt\n",
    "sns.barplot(data = county_dis)\n",
    "plt.show()\n",
    "#counties with largest number of facilities"
   ]
  },
  {
   "cell_type": "code",
   "execution_count": 9,
   "id": "c53ada60-bc32-47a8-97dd-fbca4598655d",
   "metadata": {},
   "outputs": [
    {
     "name": "stdout",
     "output_type": "stream",
     "text": [
      "County\n",
      "Lamu            47\n",
      "Isiolo          55\n",
      "Tana River      65\n",
      "Mandera         89\n",
      "Taita Taveta    92\n",
      "Name: count, dtype: int64\n"
     ]
    },
    {
     "data": {
      "text/plain": [
       "<Axes: xlabel='County', ylabel='count'>"
      ]
     },
     "execution_count": 9,
     "metadata": {},
     "output_type": "execute_result"
    },
    {
     "data": {
      "image/png": "[encoded data removed]",
      "text/plain": [
       "<Figure size 640x480 with 1 Axes>"
      ]
     },
     "metadata": {},
     "output_type": "display_data"
    }
   ],
   "source": [
    "#counties with least number of facilities\n",
    "low_county = healths.value_counts(\"County\").nsmallest(5)\n",
    "print(low_county)\n",
    "sns.barplot(data = low_county)"
   ]
  },
  {
   "cell_type": "code",
   "execution_count": 15,
   "id": "e9d3fab6-d92b-467c-9748-8622996b19ba",
   "metadata": {},
   "outputs": [
    {
     "name": "stdout",
     "output_type": "stream",
     "text": [
      "Type\n",
      "Dispensary        4820\n",
      "Medical Clinic    3360\n",
      "Health Centre     1126\n",
      "Other Hospital     256\n",
      "Nursing Home       208\n",
      "Name: count, dtype: int64\n"
     ]
    }
   ],
   "source": [
    "max_type = healths.value_counts(\"Type\").nlargest(5)\n",
    "print(max_type)"
   ]
  },
  {
   "cell_type": "code",
   "execution_count": 13,
   "id": "ff6ea520-3c11-4095-a80b-64b666fe5867",
   "metadata": {},
   "outputs": [
    {
     "data": {
      "text/plain": [
       "Type\n",
       "Dispensary                                      4820\n",
       "Medical Clinic                                  3360\n",
       "Health Centre                                   1126\n",
       "Other Hospital                                   256\n",
       "Nursing Home                                     208\n",
       "VCT Centre (Stand-Alone)                         181\n",
       "Sub-District Hospital                            143\n",
       "District Hospital                                141\n",
       "Laboratory (Stand-alone)                          59\n",
       "Maternity Home                                    49\n",
       "Medical Centre                                    36\n",
       "Dental Clinic                                     30\n",
       "Not in List                                       19\n",
       "Health Programme                                  15\n",
       "Eye Centre                                        10\n",
       "Health Project                                     9\n",
       "Radiology Unit                                     9\n",
       "Provincial General Hospital                        9\n",
       "Training Institution in Health (Stand-alone)       8\n",
       "District Health Office                             5\n",
       "Eye Clinic                                         3\n",
       "National Referral Hospital                         3\n",
       "Regional Blood Transfusion Centre                  3\n",
       "Blood Bank                                         1\n",
       "Funeral Home (Stand-alone)                         1\n",
       "Rural Health Training Centre                       1\n",
       "Name: count, dtype: int64"
      ]
     },
     "execution_count": 13,
     "metadata": {},
     "output_type": "execute_result"
    }
   ],
   "source": [
    "healths.value_counts(\"Type\")"
   ]
  },
  {
   "cell_type": "code",
   "execution_count": 12,
   "id": "49861972-da20-4458-9130-5c2715f8ec4a",
   "metadata": {},
   "outputs": [
    {
     "name": "stdout",
     "output_type": "stream",
     "text": [
      "Owner\n",
      "Ministry of Health                                 4687\n",
      "Private Enterprise (Institution)                   1366\n",
      "Private Practice - Nurse / Midwife                 1026\n",
      "Private Practice - Clinical Officer                 615\n",
      "Private Practice - General Practitioner             434\n",
      "Kenya Episcopal Conference-Catholic Secretariat     412\n",
      "Christian Health Association of Kenya               390\n",
      "Non-Governmental Organizations                      350\n",
      "Other Faith Based                                   283\n",
      "Private Practice - Unspecified                      242\n",
      "Private Practice - Medical Specialist               169\n",
      "Community                                           109\n",
      "Local Authority                                     106\n",
      "Company Medical Service                              86\n",
      "Other Public Institution                             81\n",
      "Community Development Fund                           39\n",
      "Academic (if registered)                             37\n",
      "Armed Forces                                         24\n",
      "Parastatal                                           20\n",
      "Supreme Council for Kenya Muslims                    13\n",
      "Humanitarian Agencies                                 6\n",
      "Local Authority T Fund                                5\n",
      "State Coorporation                                    5\n",
      "Name: count, dtype: int64\n"
     ]
    }
   ],
   "source": [
    "ownership_dist = healths.value_counts(\"Owner\")\n",
    "print(ownership_dist)"
   ]
  },
  {
   "cell_type": "code",
   "execution_count": 21,
   "id": "68f2bb93-1e5d-4463-b42e-2bb289a388f8",
   "metadata": {},
   "outputs": [],
   "source": [
    "urban = ['Nairobi', 'Mombasa', 'Kisumu', 'Nakuru', 'Kiambu', 'Machakos', 'Uasin Gishu', 'Kajiado']\n",
    "urban_rural = ['Nyandarua','Kirinyaga','Nandi','Migori','Kericho', 'Nyeri', 'Embu', 'Meru', 'Murang’a', 'Laikipia', 'Narok', 'Bungoma', 'Migori', 'Homa Bay', 'Nyamira', 'Kisii', 'Trans Nzoia', 'Bomet', 'Tharaka Nithi']\n",
    "rural = ['Marsabit', 'Turkana', 'Garissa', 'Mandera', 'Wajir', 'Vihiga','Busia','Siaya','Taita Taveta','Kilifi', 'Kwale', 'Tana River', 'West Pokot', 'Elgeyo Marakwet', 'Nandi', 'Kitui', 'Makueni','Lamu','Isiolo']\n",
    "healths['Category'] = healths['County'].apply(lambda x: 'Urban' if x in urban else ('Urban-Rural' if x in urban_rural else 'Rural'))\n"
   ]
  },
  {
   "cell_type": "code",
   "execution_count": 11,
   "id": "bf44ca9c-4a42-47b0-9a8b-ea0f4bfc0332",
   "metadata": {},
   "outputs": [
    {
     "name": "stdout",
     "output_type": "stream",
     "text": [
      "Category\n",
      "Rural          3615\n",
      "Urban-Rural    3598\n",
      "Urban          3292\n",
      "Name: count, dtype: int64\n"
     ]
    },
    {
     "data": {
      "text/plain": [
       "([<matplotlib.patches.Wedge at 0x1b1ddf38a10>,\n",
       "  <matplotlib.patches.Wedge at 0x1b1ddf81fd0>,\n",
       "  <matplotlib.patches.Wedge at 0x1b1ddf9ffd0>],\n",
       " [Text(0.5174027568592231, 0.970718490188827, 'Urban'),\n",
       "  Text(-1.094872097244308, -0.1060900121399304, 'Rural'),\n",
       "  Text(0.608612241860285, -0.9162920599120119, 'Urban-Rural')])"
      ]
     },
     "execution_count": 11,
     "metadata": {},
     "output_type": "execute_result"
    },
    {
     "data": {
      "image/png": "[encoded data removed]",
      "text/plain": [
       "<Figure size 640x480 with 1 Axes>"
      ]
     },
     "metadata": {},
     "output_type": "display_data"
    }
   ],
   "source": [
    "urban = healths.value_counts(\"Category\")\n",
    "print(urban)\n",
    "labels = ['Urban', 'Rural', 'Urban-Rural']\n",
    "plt.pie(urban, labels = labels)"
   ]
  },
  {
   "cell_type": "code",
   "execution_count": 8,
   "id": "4a779e4a-6533-46f5-b474-a155b330657d",
   "metadata": {},
   "outputs": [
    {
     "name": "stdout",
     "output_type": "stream",
     "text": [
      "County\n",
      "Baringo             728.0\n",
      "Bomet               803.0\n",
      "Bungoma            1226.0\n",
      "Busia              1017.0\n",
      "Elgeyo Marakwet     807.0\n",
      "Embu               1243.0\n",
      "Garissa             805.0\n",
      "Homa Bay           1601.0\n",
      "Isiolo              549.0\n",
      "Kajiado            1247.0\n",
      "Kakamega           1897.0\n",
      "Kericho            1170.0\n",
      "Kiambu             2799.0\n",
      "Kilifi              906.0\n",
      "Kirinyaga           837.0\n",
      "Kisii              2394.0\n",
      "Kisumu             2190.0\n",
      "Kitui              1222.0\n",
      "Kwale               424.0\n",
      "Laikipia            699.0\n",
      "Lamu                159.0\n",
      "Machakos           1893.0\n",
      "Makueni            1044.0\n",
      "Mandera             443.0\n",
      "Marsabit            557.0\n",
      "Meru               1816.0\n",
      "Migori             1955.0\n",
      "Mombasa            1512.0\n",
      "Murang'a            752.0\n",
      "Nairobi            7336.0\n",
      "Nakuru             2486.0\n",
      "Nandi               598.0\n",
      "Narok               964.0\n",
      "Nyamira             917.0\n",
      "Nyandarua           564.0\n",
      "Nyeri              1594.0\n",
      "Samburu             522.0\n",
      "Siaya               850.0\n",
      "Taita Taveta        417.0\n",
      "Tana River          260.0\n",
      "Tharaka Nithi       826.0\n",
      "Trans Nzoia         655.0\n",
      "Turkana             784.0\n",
      "Uasin Gishu        1414.0\n",
      "Vihiga              750.0\n",
      "Wajir               507.0\n",
      "West Pokot          461.0\n",
      "Name: Beds, dtype: float64\n"
     ]
    }
   ],
   "source": [
    "county_beds = healths.groupby(\"County\")[\"Beds\"].sum()\n",
    "print(county_beds)\n"
   ]
  },
  {
   "cell_type": "code",
   "execution_count": 9,
   "id": "487e987a-94c3-4fcb-9590-3a57398c4d8f",
   "metadata": {},
   "outputs": [
    {
     "name": "stdout",
     "output_type": "stream",
     "text": [
      "County\n",
      "Nairobi    7336.0\n",
      "Kiambu     2799.0\n",
      "Nakuru     2486.0\n",
      "Kisii      2394.0\n",
      "Kisumu     2190.0\n",
      "Name: Beds, dtype: float64\n"
     ]
    },
    {
     "data": {
      "text/plain": [
       "<Axes: xlabel='County', ylabel='Beds'>"
      ]
     },
     "execution_count": 9,
     "metadata": {},
     "output_type": "execute_result"
    },
    {
     "data": {
      "image/png": "[encoded data removed]",
      "text/plain": [
       "<Figure size 640x480 with 1 Axes>"
      ]
     },
     "metadata": {},
     "output_type": "display_data"
    }
   ],
   "source": [
    "top_5 = county_beds.nlargest(5)\n",
    "print(top_5)\n",
    "sns.barplot(data = top_5)"
   ]
  },
  {
   "cell_type": "code",
   "execution_count": 10,
   "id": "a63e0586-01c6-48b3-acdd-861f2df2b6e4",
   "metadata": {},
   "outputs": [
    {
     "name": "stdout",
     "output_type": "stream",
     "text": [
      "County\n",
      "Lamu            159.0\n",
      "Tana River      260.0\n",
      "Taita Taveta    417.0\n",
      "Kwale           424.0\n",
      "Mandera         443.0\n",
      "Name: Beds, dtype: float64\n"
     ]
    },
    {
     "data": {
      "text/plain": [
       "<Axes: xlabel='County', ylabel='Beds'>"
      ]
     },
     "execution_count": 10,
     "metadata": {},
     "output_type": "execute_result"
    },
    {
     "data": {
      "image/png": "[encoded data removed]",
      "text/plain": [
       "<Figure size 640x480 with 1 Axes>"
      ]
     },
     "metadata": {},
     "output_type": "display_data"
    }
   ],
   "source": [
    "lowest_5 = county_beds.nsmallest(5)\n",
    "print(lowest_5)\n",
    "sns.barplot(data = lowest_5)"
   ]
  },
  {
   "cell_type": "code",
   "execution_count": 27,
   "id": "69002387-60c8-4f96-b640-b0501e8b4f07",
   "metadata": {},
   "outputs": [
    {
     "name": "stdout",
     "output_type": "stream",
     "text": [
      "County   ART  C-IMCI  FP  HBC  IPD\n",
      "Nairobi  No   No      No  No   No     585\n",
      "Kiambu   No   No      No  No   No     340\n",
      "Meru     No   No      No  No   No     326\n",
      "Nyeri    No   No      No  No   No     278\n",
      "Kitui    No   No      No  No   No     244\n",
      "Name: count, dtype: int64\n"
     ]
    }
   ],
   "source": [
    "service = healths.groupby(\"County\")[[\"ART\",\"C-IMCI\",\"FP\",\"HBC\",\"IPD\"]].value_counts().nlargest(5)\n",
    "print(service)\n"
   ]
  },
  {
   "cell_type": "code",
   "execution_count": 29,
   "id": "27abaffe-4481-47b6-92ae-897f047d532f",
   "metadata": {},
   "outputs": [
    {
     "name": "stdout",
     "output_type": "stream",
     "text": [
      "County\n",
      "Baringo              44\n",
      "Bomet              1142\n",
      "Bungoma              63\n",
      "Busia               129\n",
      "Elgeyo Marakwet      33\n",
      "Embu                161\n",
      "Garissa              73\n",
      "Homa Bay            168\n",
      "Isiolo              146\n",
      "Kajiado             154\n",
      "Kakamega            293\n",
      "Kericho              74\n",
      "Kiambu              512\n",
      "Kilifi               88\n",
      "Kirinyaga            97\n",
      "Kisii               237\n",
      "Kisumu              188\n",
      "Kitui               209\n",
      "Kwale                39\n",
      "Laikipia             68\n",
      "Lamu                 20\n",
      "Machakos            328\n",
      "Makueni             233\n",
      "Mandera              49\n",
      "Marsabit             46\n",
      "Meru                146\n",
      "Migori              124\n",
      "Mombasa             214\n",
      "Murang'a             88\n",
      "Nairobi            1086\n",
      "Nakuru              405\n",
      "Nandi                43\n",
      "Narok               171\n",
      "Nyamira              81\n",
      "Nyandarua            77\n",
      "Nyeri               135\n",
      "Samburu              45\n",
      "Siaya                36\n",
      "Taita Taveta         22\n",
      "Tana River            0\n",
      "Tharaka Nithi        46\n",
      "Trans Nzoia          64\n",
      "Turkana             103\n",
      "Uasin Gishu         131\n",
      "Vihiga               98\n",
      "Wajir                30\n",
      "West Pokot           23\n",
      "Name: Cots, dtype: int64\n"
     ]
    }
   ],
   "source": [
    "county_cots = healths.groupby(\"County\")[\"Cots\"].sum()\n",
    "print(county_cots)"
   ]
  },
  {
   "cell_type": "code",
   "execution_count": 31,
   "id": "9a5a36be-d469-4d88-8710-2eeedefeac3d",
   "metadata": {},
   "outputs": [
    {
     "data": {
      "text/plain": [
       "<Axes: xlabel='County', ylabel='Cots'>"
      ]
     },
     "execution_count": 31,
     "metadata": {},
     "output_type": "execute_result"
    },
    {
     "data": {
      "image/png": "[encoded data removed]",
      "text/plain": [
       "<Figure size 640x480 with 1 Axes>"
      ]
     },
     "metadata": {},
     "output_type": "display_data"
    }
   ],
   "source": [
    "high_cots = county_cots.nlargest(5)\n",
    "sns.barplot(data = high_cots)"
   ]
  },
  {
   "cell_type": "code",
   "execution_count": 34,
   "id": "161a6bd8-8a6a-4819-805e-d37114495fd6",
   "metadata": {},
   "outputs": [
    {
     "data": {
      "text/plain": [
       "<Axes: xlabel='County', ylabel='Cots'>"
      ]
     },
     "execution_count": 34,
     "metadata": {},
     "output_type": "execute_result"
    },
    {
     "data": {
      "image/png": "[encoded data removed]",
      "text/plain": [
       "<Figure size 640x480 with 1 Axes>"
      ]
     },
     "metadata": {},
     "output_type": "display_data"
    }
   ],
   "source": [
    "low_cots = county_cots.nsmallest(5)\n",
    "sns.barplot(data = low_cots)"
   ]
  },
  {
   "cell_type": "code",
   "execution_count": null,
   "id": "5eb6ddd9-c9c8-4bbf-a60f-4b18b2c5af64",
   "metadata": {},
   "outputs": [],
   "source": []
  }
 ],
 "metadata": {
  "kernelspec": {
   "display_name": "Python 3 (ipykernel)",
   "language": "python",
   "name": "python3"
  },
  "language_info": {
   "codemirror_mode": {
    "name": "ipython",
    "version": 3
   },
   "file_extension": ".py",
   "mimetype": "text/x-python",
   "name": "python",
   "nbconvert_exporter": "python",
   "pygments_lexer": "ipython3",
   "version": "3.11.4"
  }
 },
 "nbformat": 4,
 "nbformat_minor": 5
}
